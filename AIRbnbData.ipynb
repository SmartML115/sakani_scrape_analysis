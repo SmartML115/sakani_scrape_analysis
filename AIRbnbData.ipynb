{
 "cells": [
  {
   "cell_type": "code",
   "execution_count": 2,
   "id": "1cdc0b5f-e0e1-4aad-ba56-313ffe263499",
   "metadata": {},
   "outputs": [],
   "source": [
    "import requests\n",
    "import numpy as np\n",
    "import pandas as pd\n",
    "from bs4 import BeautifulSoup\n",
    "import matplotlib.pyplot as plt"
   ]
  },
  {
   "cell_type": "code",
   "execution_count": null,
   "id": "f4895767-8278-41d9-a07a-ef2b4658030b",
   "metadata": {},
   "outputs": [],
   "source": [
    "df1 = pd.read_csv(r'C:\\Users\\xzyad\\Downloads\\Airbnb listings and review dataset (1).zip', encoding='latin-1')\n",
    "df2 = pd.read_csv(r'C:\\Users\\xzyad\\Downloads\\Airbnblisting.zip', encoding='latin-1')\n",
    "\n",
    "merged_df = pd.merge(df1, df2, on='listing_id')\n",
    "\n",
    "# Write the merged DataFrame to a new CSV file\n",
    "merged_df.to_csv('merged.csv', index=False)"
   ]
  },
  {
   "cell_type": "code",
   "execution_count": 4,
   "id": "ca89ac39-22de-4586-ab4b-6f260644be2e",
   "metadata": {},
   "outputs": [
    {
     "name": "stdout",
     "output_type": "stream",
     "text": [
      "   listing_id  review_id        date  reviewer_id  \\\n",
      "0       11798  330265172  2018-09-30     11863072   \n",
      "1       11798  437228860  2019-04-14      3153099   \n",
      "2       11798  274915772  2018-06-10     13021254   \n",
      "3       11798  284327934  2018-07-01     74131694   \n",
      "4       11798  223467265  2018-01-01     39665778   \n",
      "\n",
      "                          name  host_id  host_since  \\\n",
      "0  Loft very charming in Paris    44444  2009-10-08   \n",
      "1  Loft very charming in Paris    44444  2009-10-08   \n",
      "2  Loft very charming in Paris    44444  2009-10-08   \n",
      "3  Loft very charming in Paris    44444  2009-10-08   \n",
      "4  Loft very charming in Paris    44444  2009-10-08   \n",
      "\n",
      "                  host_location host_response_time  host_response_rate  ...  \\\n",
      "0  Paris, Ile-de-France, France                NaN                 NaN  ...   \n",
      "1  Paris, Ile-de-France, France                NaN                 NaN  ...   \n",
      "2  Paris, Ile-de-France, France                NaN                 NaN  ...   \n",
      "3  Paris, Ile-de-France, France                NaN                 NaN  ...   \n",
      "4  Paris, Ile-de-France, France                NaN                 NaN  ...   \n",
      "\n",
      "   minimum_nights maximum_nights  review_scores_rating review_scores_accuracy  \\\n",
      "0               2             20                  98.0                   10.0   \n",
      "1               2             20                  98.0                   10.0   \n",
      "2               2             20                  98.0                   10.0   \n",
      "3               2             20                  98.0                   10.0   \n",
      "4               2             20                  98.0                   10.0   \n",
      "\n",
      "  review_scores_cleanliness review_scores_checkin review_scores_communication  \\\n",
      "0                      10.0                  10.0                        10.0   \n",
      "1                      10.0                  10.0                        10.0   \n",
      "2                      10.0                  10.0                        10.0   \n",
      "3                      10.0                  10.0                        10.0   \n",
      "4                      10.0                  10.0                        10.0   \n",
      "\n",
      "  review_scores_location  review_scores_value  instant_bookable  \n",
      "0                   10.0                 10.0                 f  \n",
      "1                   10.0                 10.0                 f  \n",
      "2                   10.0                 10.0                 f  \n",
      "3                   10.0                 10.0                 f  \n",
      "4                   10.0                 10.0                 f  \n",
      "\n",
      "[5 rows x 36 columns]\n"
     ]
    }
   ],
   "source": [
    "print(merged_df.head()) # the first five rows"
   ]
  },
  {
   "cell_type": "code",
   "execution_count": 5,
   "id": "a9dca834-afb5-4545-a4ed-5bd1a822ada9",
   "metadata": {},
   "outputs": [
    {
     "name": "stdout",
     "output_type": "stream",
     "text": [
      "<class 'pandas.core.frame.DataFrame'>\n",
      "RangeIndex: 5373143 entries, 0 to 5373142\n",
      "Data columns (total 4 columns):\n",
      " #   Column       Dtype \n",
      "---  ------       ----- \n",
      " 0   listing_id   int64 \n",
      " 1   review_id    int64 \n",
      " 2   date         object\n",
      " 3   reviewer_id  int64 \n",
      "dtypes: int64(3), object(1)\n",
      "memory usage: 164.0+ MB\n",
      "None\n"
     ]
    }
   ],
   "source": [
    "print(df1.info()) # summary of the DataFrame columns and their data types "
   ]
  },
  {
   "cell_type": "code",
   "execution_count": 6,
   "id": "a5f01014-0c31-4938-82bc-565148c18c04",
   "metadata": {},
   "outputs": [
    {
     "name": "stdout",
     "output_type": "stream",
     "text": [
      "         listing_id       host_id  host_response_rate  host_acceptance_rate  \\\n",
      "count  2.797120e+05  2.797120e+05       150930.000000         166625.000000   \n",
      "mean   2.638196e+07  1.081658e+08            0.865939              0.827168   \n",
      "std    1.442576e+07  1.108570e+08            0.283744              0.289202   \n",
      "min    2.577000e+03  1.822000e+03            0.000000              0.000000   \n",
      "25%    1.384462e+07  1.720656e+07            0.900000              0.780000   \n",
      "50%    2.767098e+07  5.826911e+07            1.000000              0.980000   \n",
      "75%    3.978485e+07  1.832853e+08            1.000000              1.000000   \n",
      "max    4.834353e+07  3.901874e+08            1.000000              1.000000   \n",
      "\n",
      "       host_total_listings_count       latitude      longitude   accommodates  \\\n",
      "count              279547.000000  279712.000000  279712.000000  279712.000000   \n",
      "mean                   24.581612      18.761862      12.595075       3.288736   \n",
      "std                   284.041143      32.560343      73.081309       2.133379   \n",
      "min                     0.000000     -34.264400     -99.339630       0.000000   \n",
      "25%                     1.000000     -22.964390     -43.198040       2.000000   \n",
      "50%                     1.000000      40.710785       2.382780       2.000000   \n",
      "75%                     4.000000      41.908610      28.986730       4.000000   \n",
      "max                  7235.000000      48.904910     151.339810      16.000000   \n",
      "\n",
      "            bedrooms          price  minimum_nights  maximum_nights  \\\n",
      "count  250277.000000  279712.000000   279712.000000    2.797120e+05   \n",
      "mean        1.515509     608.792737        8.050967    2.755860e+04   \n",
      "std         1.153080    3441.826611       31.518946    7.282875e+06   \n",
      "min         1.000000       0.000000        1.000000    1.000000e+00   \n",
      "25%         1.000000      75.000000        1.000000    4.500000e+01   \n",
      "50%         1.000000     150.000000        2.000000    1.125000e+03   \n",
      "75%         2.000000     474.000000        5.000000    1.125000e+03   \n",
      "max        50.000000  625216.000000     9999.000000    2.147484e+09   \n",
      "\n",
      "       review_scores_rating  review_scores_accuracy  \\\n",
      "count         188307.000000           187999.000000   \n",
      "mean              93.405195                9.565476   \n",
      "std               10.070437                0.990878   \n",
      "min               20.000000                2.000000   \n",
      "25%               91.000000                9.000000   \n",
      "50%               96.000000               10.000000   \n",
      "75%              100.000000               10.000000   \n",
      "max              100.000000               10.000000   \n",
      "\n",
      "       review_scores_cleanliness  review_scores_checkin  \\\n",
      "count              188047.000000          187941.000000   \n",
      "mean                    9.312869               9.701534   \n",
      "std                     1.146072               0.867434   \n",
      "min                     2.000000               2.000000   \n",
      "25%                     9.000000              10.000000   \n",
      "50%                    10.000000              10.000000   \n",
      "75%                    10.000000              10.000000   \n",
      "max                    10.000000              10.000000   \n",
      "\n",
      "       review_scores_communication  review_scores_location  \\\n",
      "count                188025.000000           187937.000000   \n",
      "mean                      9.698593                9.633994   \n",
      "std                       0.886884                0.833234   \n",
      "min                       2.000000                2.000000   \n",
      "25%                      10.000000                9.000000   \n",
      "50%                      10.000000               10.000000   \n",
      "75%                      10.000000               10.000000   \n",
      "max                      10.000000               10.000000   \n",
      "\n",
      "       review_scores_value  \n",
      "count        187927.000000  \n",
      "mean              9.335364  \n",
      "std               1.042625  \n",
      "min               2.000000  \n",
      "25%               9.000000  \n",
      "50%              10.000000  \n",
      "75%              10.000000  \n",
      "max              10.000000  \n"
     ]
    }
   ],
   "source": [
    "print(df2.describe()) # summary statistics including count, mean, standard deviation, minimum, and maximum values."
   ]
  },
  {
   "cell_type": "code",
   "execution_count": 7,
   "id": "ee90b949-69be-439f-9a09-826e38d48709",
   "metadata": {},
   "outputs": [
    {
     "name": "stdout",
     "output_type": "stream",
     "text": [
      "(279712, 33)\n"
     ]
    }
   ],
   "source": [
    "print(df2.shape) # the number of rows and columns in the DataFrame"
   ]
  },
  {
   "cell_type": "code",
   "execution_count": 8,
   "id": "4509c9c4-88cf-4fb2-9489-025b88d4d9a4",
   "metadata": {},
   "outputs": [
    {
     "name": "stdout",
     "output_type": "stream",
     "text": [
      "host_response_time\n",
      "within an hour        83464\n",
      "within a few hours    28891\n",
      "within a day          23425\n",
      "a few days or more    15150\n",
      "Name: count, dtype: int64\n"
     ]
    }
   ],
   "source": [
    "print(df2['host_response_time'].value_counts()) # This code displays the frequency of each unique value in the specified column"
   ]
  },
  {
   "cell_type": "code",
   "execution_count": 9,
   "id": "f84dd2be-f387-4c03-b159-c896a976b578",
   "metadata": {},
   "outputs": [
    {
     "name": "stdout",
     "output_type": "stream",
     "text": [
      "listing_id                       int64\n",
      "name                            object\n",
      "host_id                          int64\n",
      "host_since                      object\n",
      "host_location                   object\n",
      "host_response_time              object\n",
      "host_response_rate             float64\n",
      "host_acceptance_rate           float64\n",
      "host_is_superhost               object\n",
      "host_total_listings_count      float64\n",
      "host_has_profile_pic            object\n",
      "host_identity_verified          object\n",
      "neighbourhood                   object\n",
      "district                        object\n",
      "city                            object\n",
      "latitude                       float64\n",
      "longitude                      float64\n",
      "property_type                   object\n",
      "room_type                       object\n",
      "accommodates                     int64\n",
      "bedrooms                       float64\n",
      "amenities                       object\n",
      "price                            int64\n",
      "minimum_nights                   int64\n",
      "maximum_nights                   int64\n",
      "review_scores_rating           float64\n",
      "review_scores_accuracy         float64\n",
      "review_scores_cleanliness      float64\n",
      "review_scores_checkin          float64\n",
      "review_scores_communication    float64\n",
      "review_scores_location         float64\n",
      "review_scores_value            float64\n",
      "instant_bookable                object\n",
      "dtype: object\n"
     ]
    }
   ],
   "source": [
    "print(df2.dtypes)  # data types of each column "
   ]
  },
  {
   "cell_type": "code",
   "execution_count": 10,
   "id": "83e3e9fc-3628-46b7-bdb2-1c5c684a8d57",
   "metadata": {},
   "outputs": [
    {
     "name": "stdout",
     "output_type": "stream",
     "text": [
      "[   11798    15383    16455 ... 47896175 47900451 47998038]\n"
     ]
    }
   ],
   "source": [
    "listing_ids = df1['listing_id'].unique()\n",
    "print(listing_ids) # Display the unique listing_id values"
   ]
  },
  {
   "cell_type": "code",
   "execution_count": 11,
   "id": "adbf391d-6e17-437c-af2d-f94680c1a237",
   "metadata": {},
   "outputs": [
    {
     "name": "stdout",
     "output_type": "stream",
     "text": [
      "listing_id\n",
      "17222007    891\n",
      "8637229     828\n",
      "1249964     796\n",
      "32011332    762\n",
      "2399029     754\n",
      "           ... \n",
      "46196723      1\n",
      "6563893       1\n",
      "6575768       1\n",
      "6577816       1\n",
      "47998038      1\n",
      "Name: count, Length: 193556, dtype: int64\n"
     ]
    }
   ],
   "source": [
    "print(df1['listing_id'].value_counts())"
   ]
  },
  {
   "cell_type": "code",
   "execution_count": 12,
   "id": "cb463bab-68de-49bc-95de-4c3f5dca41a9",
   "metadata": {},
   "outputs": [
    {
     "name": "stdout",
     "output_type": "stream",
     "text": [
      "review_id\n",
      "273473836    2\n",
      "588812335    2\n",
      "543276514    2\n",
      "442312418    2\n",
      "335456934    2\n",
      "            ..\n",
      "60909028     1\n",
      "60305812     1\n",
      "723071641    1\n",
      "705399748    1\n",
      "730320626    1\n",
      "Name: count, Length: 5372983, dtype: int64\n"
     ]
    }
   ],
   "source": [
    "print(df1['review_id'].value_counts())"
   ]
  },
  {
   "cell_type": "code",
   "execution_count": 13,
   "id": "4ba68783-493c-4117-81d2-4db54b61a523",
   "metadata": {},
   "outputs": [
    {
     "name": "stdout",
     "output_type": "stream",
     "text": [
      "date\n",
      "2020-01-02    10136\n",
      "2020-01-01     9635\n",
      "2019-10-06     9423\n",
      "2019-11-03     8937\n",
      "2019-09-29     8905\n",
      "              ...  \n",
      "2010-05-15        1\n",
      "2009-10-28        1\n",
      "2009-11-13        1\n",
      "2009-11-22        1\n",
      "2013-02-23        1\n",
      "Name: count, Length: 4103, dtype: int64\n"
     ]
    }
   ],
   "source": [
    "print(df1['date'].value_counts())"
   ]
  },
  {
   "cell_type": "code",
   "execution_count": 14,
   "id": "b7b2b723-dcd3-4a65-9114-794eadfb6509",
   "metadata": {},
   "outputs": [
    {
     "name": "stdout",
     "output_type": "stream",
     "text": [
      "host_location\n",
      "Paris, Ile-de-France, France                           47794\n",
      "New York, New York, United States                      24040\n",
      "Rome, Lazio, Italy                                     20138\n",
      "Cape Town, Western Cape, South Africa                  13602\n",
      "Rio de Janeiro, State of Rio de Janeiro, Brazil        13211\n",
      "                                                       ...  \n",
      "Niort, Poitou-Charentes, France                            1\n",
      "Gloversville, New York, United States                      1\n",
      "Rangsit, Pathum Thani, Thailand                            1\n",
      "Ozumba de Alzate, Estado de Mexico, Mexico                 1\n",
      "BrasÃÂ­lia de Minas, State of Minas Gerais, Brazil        1\n",
      "Name: count, Length: 7159, dtype: int64\n"
     ]
    }
   ],
   "source": [
    "print(df2['host_location'].value_counts())"
   ]
  },
  {
   "cell_type": "code",
   "execution_count": 15,
   "id": "8a741a85-589a-40bc-8fa6-4b8a7e306d46",
   "metadata": {},
   "outputs": [
    {
     "name": "stdout",
     "output_type": "stream",
     "text": [
      "listing_id     0\n",
      "review_id      0\n",
      "date           0\n",
      "reviewer_id    0\n",
      "dtype: int64\n"
     ]
    }
   ],
   "source": [
    "null_counts = df1.isnull().sum()\n",
    "print(null_counts) # Checking for null values in the DataFrame"
   ]
  },
  {
   "cell_type": "code",
   "execution_count": 16,
   "id": "3d017096-1f2c-4385-95fa-1d6932504d93",
   "metadata": {},
   "outputs": [
    {
     "name": "stdout",
     "output_type": "stream",
     "text": [
      "91785\n"
     ]
    }
   ],
   "source": [
    "null_counts_column = df2['review_scores_value'].isnull().sum()\n",
    "print(null_counts_column)"
   ]
  },
  {
   "cell_type": "code",
   "execution_count": 17,
   "id": "9964f256-f5cc-480e-a69d-34186c2e9d65",
   "metadata": {},
   "outputs": [
    {
     "name": "stdout",
     "output_type": "stream",
     "text": [
      "0\n"
     ]
    }
   ],
   "source": [
    "null_counts_column = df1['date'].isnull().sum()\n",
    "print(null_counts_column)"
   ]
  },
  {
   "cell_type": "code",
   "execution_count": 18,
   "id": "9a44a927-1403-4224-b918-f64444fbcbf2",
   "metadata": {},
   "outputs": [
    {
     "name": "stdout",
     "output_type": "stream",
     "text": [
      "0\n"
     ]
    }
   ],
   "source": [
    "null_counts_column = df1['listing_id'].isnull().sum()\n",
    "print(null_counts_column)"
   ]
  },
  {
   "cell_type": "code",
   "execution_count": 19,
   "id": "93ee82ef-1504-4089-b726-efc36ba9280c",
   "metadata": {},
   "outputs": [
    {
     "name": "stdout",
     "output_type": "stream",
     "text": [
      "listing_id                          0\n",
      "name                              175\n",
      "host_id                             0\n",
      "host_since                        165\n",
      "host_location                     840\n",
      "host_response_time             128782\n",
      "host_response_rate             128782\n",
      "host_acceptance_rate           113087\n",
      "host_is_superhost                 165\n",
      "host_total_listings_count         165\n",
      "host_has_profile_pic              165\n",
      "host_identity_verified            165\n",
      "neighbourhood                       0\n",
      "district                       242700\n",
      "city                                0\n",
      "latitude                            0\n",
      "longitude                           0\n",
      "property_type                       0\n",
      "room_type                           0\n",
      "accommodates                        0\n",
      "bedrooms                        29435\n",
      "amenities                           0\n",
      "price                               0\n",
      "minimum_nights                      0\n",
      "maximum_nights                      0\n",
      "review_scores_rating            91405\n",
      "review_scores_accuracy          91713\n",
      "review_scores_cleanliness       91665\n",
      "review_scores_checkin           91771\n",
      "review_scores_communication     91687\n",
      "review_scores_location          91775\n",
      "review_scores_value             91785\n",
      "instant_bookable                    0\n",
      "dtype: int64\n"
     ]
    }
   ],
   "source": [
    "missing_values = df2.isna().sum()\n",
    "print(missing_values) # Checking for missing values in the DataFrame"
   ]
  },
  {
   "cell_type": "code",
   "execution_count": 20,
   "id": "5a7bfea6-cb1a-4569-ba21-d3fcaab793f8",
   "metadata": {},
   "outputs": [],
   "source": [
    "df2.drop(['host_response_time', 'host_response_rate','host_acceptance_rate','district' , 'review_scores_rating' , 'review_scores_accuracy' ,\n",
    "'review_scores_cleanliness' , 'review_scores_checkin' , 'review_scores_communication' , 'review_scores_location' , 'review_scores_value' ],axis=1, inplace=True)"
   ]
  },
  {
   "cell_type": "code",
   "execution_count": 21,
   "id": "1769a847-0679-480c-9a0f-f34b731060b7",
   "metadata": {},
   "outputs": [
    {
     "name": "stdout",
     "output_type": "stream",
     "text": [
      "Empty DataFrame\n",
      "Columns: [listing_id, name, host_id, host_since, host_location, host_is_superhost, host_total_listings_count, host_has_profile_pic, host_identity_verified, neighbourhood, city, latitude, longitude, property_type, room_type, accommodates, bedrooms, amenities, price, minimum_nights, maximum_nights, instant_bookable]\n",
      "Index: []\n",
      "\n",
      "[0 rows x 22 columns]\n"
     ]
    }
   ],
   "source": [
    "duplicate_rows = df2.duplicated()\n",
    "print(df2[duplicate_rows]) # Display the duplicate rows "
   ]
  },
  {
   "cell_type": "raw",
   "id": "82105643-072c-4ebc-917a-65f3293ed6f5",
   "metadata": {},
   "source": [
    "[]output means no duplicates"
   ]
  },
  {
   "cell_type": "code",
   "execution_count": 22,
   "id": "61e60181-76a4-47d4-8876-c06af70425a2",
   "metadata": {},
   "outputs": [],
   "source": [
    "default_value = 0\n",
    "df2['test_plot_column'] = default_value # new column to plot faster"
   ]
  },
  {
   "cell_type": "code",
   "execution_count": 23,
   "id": "e8dbef24-e14e-4bce-97c2-5dd8587aa958",
   "metadata": {},
   "outputs": [
    {
     "name": "stdout",
     "output_type": "stream",
     "text": [
      "<class 'pandas.core.frame.DataFrame'>\n",
      "RangeIndex: 279712 entries, 0 to 279711\n",
      "Data columns (total 23 columns):\n",
      " #   Column                     Non-Null Count   Dtype  \n",
      "---  ------                     --------------   -----  \n",
      " 0   listing_id                 279712 non-null  int64  \n",
      " 1   name                       279537 non-null  object \n",
      " 2   host_id                    279712 non-null  int64  \n",
      " 3   host_since                 279547 non-null  object \n",
      " 4   host_location              278872 non-null  object \n",
      " 5   host_is_superhost          279547 non-null  object \n",
      " 6   host_total_listings_count  279547 non-null  float64\n",
      " 7   host_has_profile_pic       279547 non-null  object \n",
      " 8   host_identity_verified     279547 non-null  object \n",
      " 9   neighbourhood              279712 non-null  object \n",
      " 10  city                       279712 non-null  object \n",
      " 11  latitude                   279712 non-null  float64\n",
      " 12  longitude                  279712 non-null  float64\n",
      " 13  property_type              279712 non-null  object \n",
      " 14  room_type                  279712 non-null  object \n",
      " 15  accommodates               279712 non-null  int64  \n",
      " 16  bedrooms                   250277 non-null  float64\n",
      " 17  amenities                  279712 non-null  object \n",
      " 18  price                      279712 non-null  int64  \n",
      " 19  minimum_nights             279712 non-null  int64  \n",
      " 20  maximum_nights             279712 non-null  int64  \n",
      " 21  instant_bookable           279712 non-null  object \n",
      " 22  test_plot_column           279712 non-null  int64  \n",
      "dtypes: float64(4), int64(7), object(12)\n",
      "memory usage: 49.1+ MB\n",
      "None\n"
     ]
    }
   ],
   "source": [
    "print(df2.info())"
   ]
  },
  {
   "cell_type": "code",
   "execution_count": 25,
   "id": "1c8a69c3-c89a-46fc-a8bd-50c0621fd6ee",
   "metadata": {},
   "outputs": [
    {
     "data": {
      "image/png": "[encoded data removed]",
      "text/plain": [
       "<Figure size 640x480 with 1 Axes>"
      ]
     },
     "metadata": {},
     "output_type": "display_data"
    }
   ],
   "source": [
    "df1[['reviewer_id', 'review_id', 'listing_id']].plot(kind='hist', bins=100, alpha=0.6)\n",
    "plt.xlabel('Value')\n",
    "plt.ylabel('Frequency')\n",
    "plt.title('Histogram of reviews and listing')\n",
    "plt.show();"
   ]
  },
  {
   "cell_type": "code",
   "execution_count": null,
   "id": "197305d6-06d3-49a8-810f-e2219d1b1fbf",
   "metadata": {},
   "outputs": [],
   "source": [
    "\n",
    "mean = df1['review_id'].mean()\n",
    "median = df1['review_id'].median()\n",
    "mode = df1['review_id'].mode()\n",
    "std = df1['review_id'].std()\n",
    "min_value = df1['review_id'].min()\n",
    "max_value = df1['review_id'].max()\n",
    "quartiles = df1['review_id'].quantile([0.25, 0.5, 0.75])\n",
    "\n",
    "print('Mean:', mean)\n",
    "print('Median:', median)\n",
    "print('Mode:', mode)\n",
    "print('Standard Deviation:', std)\n",
    "print('Minimum:', min_value)\n",
    "print('Maximum:', max_value)\n",
    "print('Quartiles:', quartiles)"
   ]
  },
  {
   "cell_type": "code",
   "execution_count": null,
   "id": "7576ffb6-ac8f-437e-91c4-93ad328d1a9f",
   "metadata": {},
   "outputs": [],
   "source": [
    "import seaborn as sns\n",
    "sns.boxplot(x=df1['reviewer_id'], y=df2['city'])\n",
    "plt.xlabel('reviewer')\n",
    "plt.ylabel('city')\n",
    "plt.title('reviewe vs. cities')\n",
    "plt.show()"
   ]
  },
  {
   "cell_type": "code",
   "execution_count": null,
   "id": "c4514cc8-4b89-4342-bb8a-345e8de1461a",
   "metadata": {},
   "outputs": [],
   "source": [
    "medians = df2[['latitude', 'longitude']].median()\n",
    "print(\"Medians:\")\n",
    "print(medians)"
   ]
  },
  {
   "cell_type": "code",
   "execution_count": null,
   "id": "4da95e22-e99a-4de5-a69e-f53a32a874c7",
   "metadata": {},
   "outputs": [],
   "source": [
    "import pandas as pd\n",
    "\n",
    "# Assuming your DataFrame is called 'df' and you want to fill null values in column 'column1' with median1 and null values in column 'column2' with median2\n",
    "median1 = df2['latitude'].median()\n",
    "median2 = df2['longitude'].median()\n",
    "\n",
    "df2[['host_location','test_plot_column']] = df2[['latitude', 'longitude']].apply(lambda x: x.fillna(median1) if pd.isnull(x).any() else x)"
   ]
  },
  {
   "cell_type": "code",
   "execution_count": null,
   "id": "87f8b02a-15c5-4c8c-972f-1ad4b5d1ca11",
   "metadata": {},
   "outputs": [],
   "source": [
    "missing_values = df2.isna().sum()\n",
    "print(missing_values) # Checking for missing values in the DataFrame"
   ]
  },
  {
   "cell_type": "code",
   "execution_count": null,
   "id": "03dc9094-22d1-456e-a402-341a4eee647c",
   "metadata": {},
   "outputs": [],
   "source": [
    "print(df2['host_location'].value_counts())"
   ]
  },
  {
   "cell_type": "code",
   "execution_count": 27,
   "id": "6ecfa5e3-f449-49e9-a810-e1f4482e8d78",
   "metadata": {},
   "outputs": [
    {
     "name": "stdout",
     "output_type": "stream",
     "text": [
      "price\n",
      "100      6882\n",
      "50       6438\n",
      "70       6207\n",
      "60       6172\n",
      "80       6148\n",
      "         ... \n",
      "4941        1\n",
      "2055        1\n",
      "2751        1\n",
      "2553        1\n",
      "36473       1\n",
      "Name: count, Length: 5194, dtype: int64\n"
     ]
    }
   ],
   "source": [
    "print(df2['price'].value_counts())"
   ]
  },
  {
   "cell_type": "code",
   "execution_count": null,
   "id": "85dd9d31-731e-4fd3-83cd-8118b1795e8f",
   "metadata": {},
   "outputs": [],
   "source": [
    "df2['bedrooms'] = df2['room_type'].interpolate(method='linear')\n",
    "\n",
    "\n",
    "#Alternatively, you can specify the 'axis' parameter to interpolate along columns or rows"
   ]
  },
  {
   "cell_type": "code",
   "execution_count": null,
   "id": "0bad0d85-9433-4a31-a5f0-1e0dadedc538",
   "metadata": {},
   "outputs": [],
   "source": [
    "missing_values = df2.isna().sum()\n",
    "print(missing_values) # Checking for missing values in the DataFrame"
   ]
  },
  {
   "cell_type": "code",
   "execution_count": 26,
   "id": "3e724b8b-a650-4e54-afe5-8db6c7e8f302",
   "metadata": {},
   "outputs": [],
   "source": [
    "df2['name'] = df2['listing_id'].fillna(value=0 , limit=10)"
   ]
  },
  {
   "cell_type": "code",
   "execution_count": null,
   "id": "1551613d-a3d3-44ae-9507-dfccb0b4b9ad",
   "metadata": {},
   "outputs": [],
   "source": [
    "missing_values = df2.isna().sum()\n",
    "print(missing_values) # Checking for missing values in the DataFrame"
   ]
  },
  {
   "cell_type": "code",
   "execution_count": null,
   "id": "83240844-60c2-4ba4-930e-dcb6aa132444",
   "metadata": {},
   "outputs": [],
   "source": [
    "df2.dropna(inplace=True) #dropping only null values"
   ]
  },
  {
   "cell_type": "code",
   "execution_count": null,
   "id": "48ba1f77-5e07-46e3-a76b-311eeb541662",
   "metadata": {},
   "outputs": [],
   "source": [
    "missing_values = df2.isna().sum()\n",
    "print(missing_values) # Checking for missing values in the DataFrame"
   ]
  },
  {
   "cell_type": "code",
   "execution_count": null,
   "id": "e3dcc889-cb1f-4fbf-8a6a-414edc0e0bac",
   "metadata": {},
   "outputs": [],
   "source": []
  }
 ],
 "metadata": {
  "kernelspec": {
   "display_name": "Python 3 (ipykernel)",
   "language": "python",
   "name": "python3"
  },
  "language_info": {
   "codemirror_mode": {
    "name": "ipython",
    "version": 3
   },
   "file_extension": ".py",
   "mimetype": "text/x-python",
   "name": "python",
   "nbconvert_exporter": "python",
   "pygments_lexer": "ipython3",
   "version": "3.11.7"
  }
 },
 "nbformat": 4,
 "nbformat_minor": 5
}
